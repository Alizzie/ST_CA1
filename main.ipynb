{
 "cells": [
  {
   "cell_type": "code",
   "execution_count": null,
   "metadata": {},
   "outputs": [],
   "source": [
    "import requests\n",
    "import numpy as np\n",
    "import tensorflow as tf\n",
    "from pathlib import Path\n",
    "import pickle\n",
    "\n",
    "np.random.seed(0)"
   ]
  },
  {
   "cell_type": "code",
   "execution_count": null,
   "metadata": {},
   "outputs": [],
   "source": [
    "def download_datasets(url, dataset_name):\n",
    "    path_to_zip = tf.keras.utils.get_file(\n",
    "        fname=f\"{dataset_name}.tar.gz\",\n",
    "        origin=url,\n",
    "        extract=True)\n",
    "\n",
    "    path_to_zip = Path(path_to_zip)\n",
    "    path = path_to_zip.parent / dataset_name\n",
    "    return path_to_zip, path"
   ]
  },
  {
   "cell_type": "code",
   "execution_count": null,
   "metadata": {},
   "outputs": [],
   "source": [
    "# Copy from https://www.cs.toronto.edu/~kriz/cifar.html\n",
    "def unpickle(file):\n",
    "    with open(file, 'rb') as fo:\n",
    "        dict = pickle.load(fo, encoding='bytes')\n",
    "    return dict"
   ]
  },
  {
   "cell_type": "code",
   "execution_count": null,
   "metadata": {},
   "outputs": [],
   "source": [
    "cifar10_url = 'https://www.cs.toronto.edu/~kriz/cifar-10-python.tar.gz'\n",
    "zip, cifar10_path = download_datasets(cifar10_url, 'cifar-10-batches-py')"
   ]
  },
  {
   "cell_type": "code",
   "execution_count": null,
   "metadata": {},
   "outputs": [],
   "source": [
    "label_dic_file = 'batches.meta'\n",
    "label_dic = unpickle(str(cifar10_path / label_dic_file))\n",
    "labels = label_dic.get(b'label_names')\n",
    "print(labels)"
   ]
  },
  {
   "cell_type": "code",
   "execution_count": null,
   "metadata": {},
   "outputs": [],
   "source": [
    "## Test batch overview for one batch firsts\n",
    "filename = 'data_batch_1'\n",
    "batch_1_dic = unpickle(str(cifar10_path / filename))\n",
    "print(type(batch_1_dic), len(batch_1_dic))"
   ]
  },
  {
   "cell_type": "code",
   "execution_count": null,
   "metadata": {},
   "outputs": [],
   "source": [
    "# Overview of dic structure\n",
    "for key, value in batch_1_dic.items():\n",
    "    print(f\"Key: {key}, Type: {type(key)}\")\n",
    "    print(f\"Value: {value}, Type: {type(value)}\")"
   ]
  },
  {
   "cell_type": "code",
   "execution_count": null,
   "metadata": {},
   "outputs": [],
   "source": [
    "cifar10_labels_batch1 = batch_1_dic.get(b'labels')\n",
    "cifar10_images_batch1 = batch_1_dic.get(b'data')\n",
    "cifar10_filenames_batch1 = batch_1_dic.get(b'filenames')\n",
    "\n",
    "print(cifar10_images_batch1.shape) # image as 3072 byte, 1024 each rgb channel\n",
    "\n",
    "assert((len(cifar10_labels_batch1) == 10000)), 'labels contains not all 10000 labels'\n",
    "assert((len(cifar10_images_batch1) == 10000)), 'images contains not all 10000 images'\n",
    "assert((cifar10_images_batch1.shape[1] == 3072)), 'images are not in 3072 bytes'\n",
    "assert((len(cifar10_filenames_batch1) == 10000)), 'filenames contains not all 10000 filenames'"
   ]
  },
  {
   "cell_type": "code",
   "execution_count": null,
   "metadata": {},
   "outputs": [],
   "source": [
    "# TODO :\n",
    "# Load images to rgb\n",
    "# get overview of images: number for each label, look of images"
   ]
  }
 ],
 "metadata": {
  "language_info": {
   "name": "python"
  }
 },
 "nbformat": 4,
 "nbformat_minor": 2
}
